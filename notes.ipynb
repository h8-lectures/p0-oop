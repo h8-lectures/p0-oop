{
 "cells": [
  {
   "cell_type": "markdown",
   "metadata": {},
   "source": [
    "# Object-Oriented Programming"
   ]
  },
  {
   "cell_type": "markdown",
   "metadata": {},
   "source": [
    "## Definition"
   ]
  },
  {
   "cell_type": "markdown",
   "metadata": {},
   "source": [
    "- **OOP** is a way of writing computer programs that revolves around the concept of \"objects\". \n",
    "- Every \"object\" have its own characteristics (attributes/properties) and behaviour (method/function).\n",
    "- For creating an object, we must create a blueprint called **Class** which defines what an object will be.\n",
    "    ![](https://www.roomsketcher.com/content/uploads/2023/04/blueprint-maker.jpg)"
   ]
  },
  {
   "cell_type": "markdown",
   "metadata": {},
   "source": [
    "## How to Define Class"
   ]
  },
  {
   "cell_type": "markdown",
   "metadata": {},
   "source": [
    "```python\n",
    "# first, we need to declare a class like this\n",
    "class Cat:\n",
    "    # then, inside of the class we create a constructor method to define the atributes\n",
    "    def __init__(self, furColor):\n",
    "        # define class attributes, in this case \"color\" attribute\n",
    "        self.color = furColor\n",
    "\n",
    "    # we can create a string representation of class using this method\n",
    "    def __str__(self):\n",
    "        return \"Class Cat\"\n",
    "\n",
    "    # we also can define our custom method or behaviour like this\n",
    "    # notice that in every method the first parameter is always \"self\"\n",
    "    def walk(self):\n",
    "        print(\"Cat Walk\")\n",
    "```\n",
    "\n",
    "- A **constructor** is a special method in a class that gets automatically called when you create an object/call a class\n",
    "\n",
    "- A `self` keyword represents the instance of the class. By using the `self` we can access the attributes and methods of the class"
   ]
  },
  {
   "cell_type": "code",
   "execution_count": null,
   "metadata": {},
   "outputs": [],
   "source": [
    "# create a class here"
   ]
  },
  {
   "cell_type": "markdown",
   "metadata": {},
   "source": [
    "## Object"
   ]
  },
  {
   "cell_type": "markdown",
   "metadata": {},
   "source": [
    "![](https://www.livehome3d.com/assets/img/social/how-to-design-a-house.jpg)"
   ]
  },
  {
   "cell_type": "markdown",
   "metadata": {},
   "source": [
    "**Object** is the product of a Class. Just like in real life, **objects** are the things that we interact with everytime."
   ]
  },
  {
   "cell_type": "markdown",
   "metadata": {},
   "source": [
    "```python\n",
    "# after we define the \"Cat\" Class, we can now create a \"Cat\" Object by calling the \"Cat\" Class like this\n",
    "Cat(\"red\")\n",
    "\n",
    "# we can also store the object to variable to retain its state everytime the object is called\n",
    "cat = Cat(\"orange\")\n",
    "\n",
    "# to access the \"color\" attribute\n",
    "cat.color\n",
    "\n",
    "# to access the \"walk\" behaviour\n",
    "cat.walk()\n",
    "```"
   ]
  },
  {
   "cell_type": "code",
   "execution_count": null,
   "metadata": {},
   "outputs": [],
   "source": [
    "# call the class here"
   ]
  },
  {
   "cell_type": "markdown",
   "metadata": {},
   "source": [
    "## OOP Characteristics"
   ]
  },
  {
   "cell_type": "markdown",
   "metadata": {},
   "source": [
    "### Inheritance"
   ]
  },
  {
   "cell_type": "markdown",
   "metadata": {},
   "source": [
    "- Class that shares atribute/methods to a child class\n",
    "- In inheritance, there are 2 types of class\n",
    "    - Parent/Super class: is a class whose properties are inherited by the child class.\n",
    "    - Child/Sub class: is a class that drives the properties from its parent class.\n",
    "\n",
    "Example:\n",
    "```python\n",
    "class Person:\n",
    " \n",
    "    # Constructor\n",
    "    def __init__(self, name):\n",
    "        self.name = name\n",
    " \n",
    "    # To get name\n",
    "    def getName(self):\n",
    "        return self.name\n",
    " \n",
    "    # To check if this person is an employee\n",
    "    def isEmployee(self):\n",
    "        return False\n",
    " \n",
    " \n",
    "# Inherited or Subclass (Note Person in bracket)\n",
    "class Employee(Person):\n",
    " \n",
    "    # Here we return true\n",
    "    def isEmployee(self):\n",
    "        return True\n",
    "\n",
    "emp = Person(\"Geek1\")  # An Object of Person\n",
    "print(emp.getName(), emp.isEmployee())\n",
    " \n",
    "emp = Employee(\"Geek2\")  # An Object of Employee\n",
    "print(emp.getName(), emp.isEmployee())\n",
    "```\n",
    "\n",
    "references: https://www.geeksforgeeks.org/inheritance-in-python/"
   ]
  },
  {
   "cell_type": "code",
   "execution_count": null,
   "metadata": {},
   "outputs": [],
   "source": [
    "# implement inheritance"
   ]
  },
  {
   "cell_type": "markdown",
   "metadata": {},
   "source": [
    "#### Types of Inheritance"
   ]
  },
  {
   "cell_type": "markdown",
   "metadata": {},
   "source": [
    "![](https://simplesnippets.tech/wp-content/uploads/2018/04/java-types-of-inheritance.jpg)"
   ]
  },
  {
   "cell_type": "markdown",
   "metadata": {},
   "source": [
    "### Encapsulation"
   ]
  },
  {
   "cell_type": "markdown",
   "metadata": {},
   "source": [
    "![](https://media.geeksforgeeks.org/wp-content/uploads/20230501154755/Encapsulation-in-Python.webp)"
   ]
  },
  {
   "cell_type": "markdown",
   "metadata": {},
   "source": [
    "- Encapsulate attribute/methods into single unit called class\n",
    "- In encapsulation, attributes/methods can be divided into 3 categories:\n",
    "    - public: accessible from any part of the program\n",
    "    - protected: only accessible to a class derived from it, has prefix `_`\n",
    "    - private: accessible within the class only, has prefix `__`\n",
    "\n",
    "Example:\n",
    "```python\n",
    "class Person:\n",
    "    # Constructor\n",
    "    def __init__(self, name):\n",
    "        self.name = name\n",
    "        self._secret = \"itsasecret\" # define protected attribute\n",
    "        self.__deepSecret = \"djgvyYXXWdA5iCgn3+suJA==\" # define private attribute\n",
    "\n",
    "# create `Person` object \n",
    "person = Person(\"John Cena\")\n",
    "\n",
    "# print public attributes from person\n",
    "print(person.name)\n",
    "\n",
    "# print protected attributes\n",
    "print(person._secret) # it won't error, but its not recommended in Python standard\n",
    "\n",
    "# print private attributes\n",
    "print(person.__deepSecret) # will output error\n",
    "```\n",
    "\n",
    "references:\n",
    "- https://www.geeksforgeeks.org/encapsulation-in-python/\n",
    "- https://www.geeksforgeeks.org/access-modifiers-in-python-public-private-and-protected/"
   ]
  },
  {
   "cell_type": "code",
   "execution_count": null,
   "metadata": {},
   "outputs": [],
   "source": [
    "# implement encapsulation"
   ]
  },
  {
   "cell_type": "markdown",
   "metadata": {},
   "source": [
    "### Polymorphism"
   ]
  },
  {
   "cell_type": "markdown",
   "metadata": {},
   "source": [
    "The word \"polymorphism\" means \"many forms\", and in programming it refers to methods/functions/operators with the same name that can be executed on many objects or classes (override).\n",
    "\n",
    "Example\n",
    "```python\n",
    "class Vehicle:\n",
    "    def __init__(self, brand, model):\n",
    "        self.brand = brand\n",
    "        self.model = model\n",
    "\n",
    "    def move(self):\n",
    "        print(\"Move!\")\n",
    "\n",
    "# child class\n",
    "class Boat(Vehicle):\n",
    "\n",
    "    # override `move` method from parent in child class\n",
    "    def move(self):\n",
    "        print(\"Sail!\")\n",
    "\n",
    "vehicle = Vehicle(\"Porsche\", \"911\")\n",
    "print(vehicle.move()) # output: Move!\n",
    "\n",
    "boat = Boat(\"Mistubishi\", \"Rotary\")\n",
    "print(boat.move()) # output: Sail!\n",
    "```\n",
    "\n",
    "references: https://www.w3schools.com/python/python_polymorphism.asp"
   ]
  },
  {
   "cell_type": "code",
   "execution_count": null,
   "metadata": {},
   "outputs": [],
   "source": [
    "# implement polymorphism (overriding)"
   ]
  },
  {
   "cell_type": "markdown",
   "metadata": {},
   "source": [
    "## Additional: `'Main'` Idiom"
   ]
  },
  {
   "cell_type": "markdown",
   "metadata": {},
   "source": [
    "Format:\n",
    "```python\n",
    "# .py script\n",
    "if __name__ == \"__main__\":\n",
    "    <body>\n",
    "```\n",
    "\n",
    "references: https://realpython.com/if-name-main-python/"
   ]
  },
  {
   "cell_type": "markdown",
   "metadata": {},
   "source": [
    "## Other References"
   ]
  },
  {
   "cell_type": "markdown",
   "metadata": {},
   "source": [
    "- FTDS Colab https://colab.research.google.com/github/FTDS-learning-materials/phase-0/blob/main/w1/P0W1D4AM_Object_Oriented_Programming.ipynb"
   ]
  }
 ],
 "metadata": {
  "kernelspec": {
   "display_name": "base",
   "language": "python",
   "name": "python3"
  },
  "language_info": {
   "codemirror_mode": {
    "name": "ipython",
    "version": 3
   },
   "file_extension": ".py",
   "mimetype": "text/x-python",
   "name": "python",
   "nbconvert_exporter": "python",
   "pygments_lexer": "ipython3",
   "version": "3.12.2"
  }
 },
 "nbformat": 4,
 "nbformat_minor": 2
}
