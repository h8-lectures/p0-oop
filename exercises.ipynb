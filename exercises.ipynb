{
 "cells": [
  {
   "cell_type": "markdown",
   "metadata": {},
   "source": [
    "# Exercise Tipis2"
   ]
  },
  {
   "cell_type": "markdown",
   "metadata": {},
   "source": [
    "Buatlah sebuah class bernama `Vehicle` dan `Car`. Dimana `Car` merupakan child dari `Vehicle`\n",
    "\n",
    "Kriteria class `Vehicle`:\n",
    "- memiliki atribut `numOfTyres`\n",
    "- memiliki method `sound`\n",
    "\n",
    "Kriteria class `Car`:\n",
    "- memiliki atribut `color` dan `year`\n",
    "- override method `sound`"
   ]
  },
  {
   "cell_type": "code",
   "execution_count": null,
   "metadata": {},
   "outputs": [],
   "source": [
    "# code here"
   ]
  }
 ],
 "metadata": {
  "language_info": {
   "name": "python"
  }
 },
 "nbformat": 4,
 "nbformat_minor": 2
}
